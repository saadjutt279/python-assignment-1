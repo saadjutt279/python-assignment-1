{
 "cells": [
  {
   "cell_type": "code",
   "execution_count": 4,
   "id": "fe54b09e",
   "metadata": {},
   "outputs": [
    {
     "name": "stdout",
     "output_type": "stream",
     "text": [
      "Twinkle, twinkle, little star,\n",
      "\tHow I wonder what you are!\n",
      "\t\tUp above the world so high,\n",
      "\t\tLike a diamond in the sky.\n",
      "Twinkle, twinkle, little star,\n",
      "\tHow I wonder what you are\n"
     ]
    }
   ],
   "source": [
    "print(\"Twinkle, twinkle, little star,\\n\\tHow I wonder what you are!\\n\\t\\tUp above the world so high,\\n\\t\\tLike a diamond in the sky.\\nTwinkle, twinkle, little star,\\n\\tHow I wonder what you are\");"
   ]
  },
  {
   "cell_type": "code",
   "execution_count": 8,
   "id": "dd9829bc",
   "metadata": {},
   "outputs": [
    {
     "name": "stdout",
     "output_type": "stream",
     "text": [
      "Python Version:\n",
      "3.9.7 (default, Sep 16 2021, 16:59:28) [MSC v.1916 64 bit (AMD64)]\n",
      "Python Version Info:\n",
      "sys.version_info(major=3, minor=9, micro=7, releaselevel='final', serial=0)\n"
     ]
    }
   ],
   "source": [
    "import sys as system;\n",
    "print (\"Python Version:\")\n",
    "print(system.version);\n",
    "print(\"Python Version Info:\");\n",
    "print(system.version_info);"
   ]
  },
  {
   "cell_type": "code",
   "execution_count": 22,
   "id": "63d94e06",
   "metadata": {},
   "outputs": [
    {
     "name": "stdout",
     "output_type": "stream",
     "text": [
      "2021-12-31\n",
      "2021-12-31 18:16:34.619954\n",
      "18:16:34\n"
     ]
    }
   ],
   "source": [
    "import datetime as dt;\n",
    "current_date = dt.date.today();\n",
    "print(current_date);\n",
    "current_time = dt.datetime.now();\n",
    "print(current_time);\n",
    "current_time_clean = current_time.strftime(\"%H:%M:%S\");\n",
    "print(current_time_clean);"
   ]
  },
  {
   "cell_type": "code",
   "execution_count": 29,
   "id": "75afcccf",
   "metadata": {
    "scrolled": true
   },
   "outputs": [
    {
     "name": "stdout",
     "output_type": "stream",
     "text": [
      "Enter the radius of the circle: 3\n",
      "Area of the circle is: \n",
      "28.259999999999998\n"
     ]
    }
   ],
   "source": [
    "rad = float(input(\"Enter the radius of the circle: \"));\n",
    "PI = 3.14;\n",
    "area = PI * rad * rad;\n",
    "print(\"Area of the circle is: \")\n",
    "print(area);"
   ]
  },
  {
   "cell_type": "code",
   "execution_count": 42,
   "id": "11a714f7",
   "metadata": {},
   "outputs": [
    {
     "name": "stdout",
     "output_type": "stream",
     "text": [
      "Enter your first name: Saad\n",
      "Enter your last name: Zulfiqar\n",
      "Your name in reverse order is Zulfiqar Saad\n"
     ]
    }
   ],
   "source": [
    "first = input(\"Enter your first name: \");\n",
    "last = input(\"Enter your last name: \");\n",
    "full = last+\" \"+first;\n",
    "print (\"Your name in reverse order is\",full);"
   ]
  },
  {
   "cell_type": "code",
   "execution_count": 41,
   "id": "ac1d27ec",
   "metadata": {},
   "outputs": [
    {
     "name": "stdout",
     "output_type": "stream",
     "text": [
      "Enter the First Number: 6\n",
      "Enter the Second Number: 5\n",
      "11.0\n"
     ]
    }
   ],
   "source": [
    "first = float(input(\"Enter the First Number: \"));\n",
    "second = float(input(\"Enter the Second Number: \"));\n",
    "addition = first + second;\n",
    "print (addition);"
   ]
  },
  {
   "cell_type": "code",
   "execution_count": null,
   "id": "bc420732",
   "metadata": {},
   "outputs": [],
   "source": []
  },
  {
   "cell_type": "code",
   "execution_count": null,
   "id": "9d7c13a1",
   "metadata": {},
   "outputs": [],
   "source": []
  },
  {
   "cell_type": "code",
   "execution_count": null,
   "id": "fda6bbfd",
   "metadata": {},
   "outputs": [],
   "source": []
  }
 ],
 "metadata": {
  "kernelspec": {
   "display_name": "Python 3 (ipykernel)",
   "language": "python",
   "name": "python3"
  },
  "language_info": {
   "codemirror_mode": {
    "name": "ipython",
    "version": 3
   },
   "file_extension": ".py",
   "mimetype": "text/x-python",
   "name": "python",
   "nbconvert_exporter": "python",
   "pygments_lexer": "ipython3",
   "version": "3.9.7"
  }
 },
 "nbformat": 4,
 "nbformat_minor": 5
}
